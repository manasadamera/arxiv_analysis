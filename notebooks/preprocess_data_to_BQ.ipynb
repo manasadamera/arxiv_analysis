{
 "cells": [
  {
   "cell_type": "code",
   "execution_count": 3,
   "metadata": {},
   "outputs": [],
   "source": [
    "import json"
   ]
  },
  {
   "cell_type": "code",
   "execution_count": 17,
   "metadata": {},
   "outputs": [],
   "source": [
    "author_names = [\"last_name\", \"middle_name\", \"suffix\"]\n",
    "with open(\"data/arxiv-metadata-oai-snapshot_modified.json\", 'w') as fw:\n",
    "    with open(\"data/arxiv-metadata-oai-snapshot.json\", 'r') as fr:\n",
    "        for line in fr.readlines():\n",
    "            row = json.loads(line)\n",
    "            authors_parsed = row[\"authors_parsed\"]\n",
    "            authors_parsed_modified = [dict(zip(author_names, author)) for author in authors_parsed]        \n",
    "            row[\"authors_parsed\"] = authors_parsed_modified\n",
    "            json.dump(row, fw)\n",
    "            fw.write(\"\\n\")"
   ]
  },
  {
   "cell_type": "code",
   "execution_count": 5,
   "metadata": {},
   "outputs": [],
   "source": [
    "from google.cloud import bigquery\n",
    "# Construct a BigQuery client object.\n",
    "client = bigquery.Client()\n",
    "\n",
    "query = \"\"\"\n",
    "    SELECT * \n",
    "    FROM `project-arxiv-290821.master_dataset.arxiv_all_data` \n",
    "    LIMIT 100;   \n",
    "\"\"\"\n",
    "query_job = client.query(query)  # Make an API request.\n",
    "df = query_job.to_dataframe()\n",
    "\n",
    "# print(\"The query data:\")\n",
    "# for row in query_job:\n",
    "#     print(type(row))\n",
    "#     print(row)\n",
    "#     # Row values can be accessed by field name or index.\n",
    "#     # print(\"name={}, count={}\".format(row[0], row[\"total_people\"]))"
   ]
  },
  {
   "cell_type": "code",
   "execution_count": 9,
   "metadata": {},
   "outputs": [
    {
     "data": {
      "text/plain": [
       "Index(['id', 'submitter', 'authors', 'title', 'comments', 'journal_ref', 'doi',\n",
       "       'report_no', 'categories', 'license', 'abstract', 'versions',\n",
       "       'update_date', 'authors_parsed'],\n",
       "      dtype='object')"
      ]
     },
     "execution_count": 9,
     "metadata": {},
     "output_type": "execute_result"
    }
   ],
   "source": [
    "df.columns"
   ]
  },
  {
   "cell_type": "code",
   "execution_count": 14,
   "metadata": {},
   "outputs": [],
   "source": [
    "def maxSubArray(nums):\n",
    "    new_num = total = 0\n",
    "    if len(nums) == 1:\n",
    "        return nums[0]\n",
    "    elif len(nums)>1:\n",
    "        for i in range(len(nums)-1):\n",
    "            new_num = max(nums[i],new_num+nums[i])\n",
    "            total = max(new_num, total)\n",
    "        return total"
   ]
  },
  {
   "cell_type": "code",
   "execution_count": 15,
   "metadata": {},
   "outputs": [
    {
     "data": {
      "text/plain": [
       "0"
      ]
     },
     "execution_count": 15,
     "metadata": {},
     "output_type": "execute_result"
    }
   ],
   "source": [
    "maxSubArray([0])"
   ]
  },
  {
   "cell_type": "code",
   "execution_count": 16,
   "metadata": {},
   "outputs": [
    {
     "data": {
      "text/plain": [
       "2"
      ]
     },
     "execution_count": 16,
     "metadata": {},
     "output_type": "execute_result"
    }
   ],
   "source": [
    "len([-2,1])"
   ]
  },
  {
   "cell_type": "code",
   "execution_count": 26,
   "metadata": {},
   "outputs": [],
   "source": [
    "# length of last word\n",
    "def lengthOfLastWord(s):\n",
    "    if s.isspace():\n",
    "        return 0\n",
    "    else:\n",
    "        x = s.split()\n",
    "        lengths = []\n",
    "        for word in x:\n",
    "            lengths.append(len(word))\n",
    "    return max(lengths)\n",
    "        "
   ]
  },
  {
   "cell_type": "code",
   "execution_count": 28,
   "metadata": {},
   "outputs": [
    {
     "data": {
      "text/plain": [
       "0"
      ]
     },
     "execution_count": 28,
     "metadata": {},
     "output_type": "execute_result"
    }
   ],
   "source": [
    "lengthOfLastWord(\"    \")"
   ]
  },
  {
   "cell_type": "code",
   "execution_count": 25,
   "metadata": {},
   "outputs": [
    {
     "data": {
      "text/plain": [
       "True"
      ]
     },
     "execution_count": 25,
     "metadata": {},
     "output_type": "execute_result"
    }
   ],
   "source": [
    "s = \"     \"\n",
    "s.isspace()"
   ]
  },
  {
   "cell_type": "code",
   "execution_count": null,
   "metadata": {},
   "outputs": [],
   "source": []
  }
 ],
 "metadata": {
  "kernelspec": {
   "display_name": "arxiv-36",
   "language": "python",
   "name": "arxiv-36"
  },
  "language_info": {
   "codemirror_mode": {
    "name": "ipython",
    "version": 3
   },
   "file_extension": ".py",
   "mimetype": "text/x-python",
   "name": "python",
   "nbconvert_exporter": "python",
   "pygments_lexer": "ipython3",
   "version": "3.6.9"
  }
 },
 "nbformat": 4,
 "nbformat_minor": 4
}
